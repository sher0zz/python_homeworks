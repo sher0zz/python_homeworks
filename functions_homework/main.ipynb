{
 "cells": [
  {
   "cell_type": "markdown",
   "metadata": {},
   "source": [
    "# Functions_homework"
   ]
  },
  {
   "cell_type": "code",
   "execution_count": 105,
   "metadata": {},
   "outputs": [
    {
     "name": "stdout",
     "output_type": "stream",
     "text": [
      "Max is 148\n"
     ]
    }
   ],
   "source": [
    "#1. Write a Python function to find the maximum of three numbers in three ways.\n",
    "# first method\n",
    "def the_max1(first, second, third):\n",
    "    if first >= second and first >= third:\n",
    "        print('Max is ' + str(first))\n",
    "    elif second >= first and second >= third:\n",
    "        print('Max is ' + str(second))\n",
    "    else:\n",
    "        print('Max is ' + str(third))\n",
    "\n",
    "the_max1(148, 148, 100)\n"
   ]
  },
  {
   "cell_type": "code",
   "execution_count": 14,
   "metadata": {},
   "outputs": [
    {
     "name": "stdout",
     "output_type": "stream",
     "text": [
      "3\n"
     ]
    }
   ],
   "source": [
    "# second method\n",
    "def the_max2(first, second, third):\n",
    "    numbers = [first, second, third]\n",
    "    max_num = numbers[0]\n",
    "    for num in numbers:\n",
    "        if num > max_num:\n",
    "            max_num = num\n",
    "    return max_num\n",
    "\n",
    "print(the_max2(1, 2, 3))"
   ]
  },
  {
   "cell_type": "code",
   "execution_count": 15,
   "metadata": {},
   "outputs": [
    {
     "name": "stdout",
     "output_type": "stream",
     "text": [
      "3\n"
     ]
    }
   ],
   "source": [
    "# third method\n",
    "def the_max3(first, second, third):\n",
    "    return max(first, second, third)\n",
    "print(the_max3(1, 2, 3))"
   ]
  },
  {
   "cell_type": "code",
   "execution_count": 29,
   "metadata": {},
   "outputs": [
    {
     "name": "stdout",
     "output_type": "stream",
     "text": [
      "3\n"
     ]
    }
   ],
   "source": [
    "#2. Write a Python function to sum all the numbers in a list.\n",
    "def the_sum(sum_num):\n",
    "    result = 0\n",
    "    for i in sum_num:\n",
    "        result += i\n",
    "    print(result) \n",
    "\n",
    "numbers = [1, 2, 3]\n",
    "\n",
    "the_sum(numbers)"
   ]
  },
  {
   "cell_type": "code",
   "execution_count": 35,
   "metadata": {},
   "outputs": [
    {
     "name": "stdout",
     "output_type": "stream",
     "text": [
      "32\n"
     ]
    }
   ],
   "source": [
    "#3. Write a Python function to multiply all the numbers in a list.\n",
    "def to_multiply(numbers):\n",
    "    result = 1\n",
    "    for i in numbers:\n",
    "        result *= i\n",
    "    print(result)\n",
    "\n",
    "numbers = [4, 4, 2]\n",
    "\n",
    "to_multiply(numbers)"
   ]
  },
  {
   "cell_type": "code",
   "execution_count": 38,
   "metadata": {},
   "outputs": [
    {
     "name": "stdout",
     "output_type": "stream",
     "text": [
      "1\n",
      "2\n",
      "3\n"
     ]
    }
   ],
   "source": [
    "# 4. Create a function in such a way that we can pass any number of arguments to this function, \n",
    "# and the function should process them and display each argument’s value.\n",
    "def any_num(*num):\n",
    "    for n in num:\n",
    "        print(n)\n",
    "\n",
    "any_num(1, 2, 3)"
   ]
  },
  {
   "cell_type": "code",
   "execution_count": 45,
   "metadata": {},
   "outputs": [
    {
     "name": "stdout",
     "output_type": "stream",
     "text": [
      "720\n"
     ]
    }
   ],
   "source": [
    "# 5. Write a Python function to calculate the factorial of a number (a non-negative integer). The function accepts the number as an argument.\n",
    "def find_factorial(fact_num):\n",
    "    if fact_num < 0:\n",
    "        return \"Factorial does not work with negative number\"\n",
    "    total = 1\n",
    "    for i in range(1, fact_num + 1):\n",
    "        total *= i\n",
    "    return total\n",
    "\n",
    "print(find_factorial(6))"
   ]
  },
  {
   "cell_type": "code",
   "execution_count": 54,
   "metadata": {},
   "outputs": [
    {
     "name": "stdout",
     "output_type": "stream",
     "text": [
      "The number 10 falls within a range 1 - 100\n",
      "The number 1 doesn't fall within a range 10 - 100\n"
     ]
    }
   ],
   "source": [
    "# 6. Write a Python function to check whether a number falls within a given range\n",
    "def in_range(number, start, end):\n",
    "    if start <= number <= end:\n",
    "        return f\"The number {number} falls within a range {start} - {end}\"\n",
    "    else:\n",
    "        return f\"The number {number} doesn't fall within a range {start} - {end}\"\n",
    "\n",
    "print(in_range(10, 1, 100))\n",
    "print(in_range(1, 10, 100))"
   ]
  },
  {
   "cell_type": "code",
   "execution_count": 61,
   "metadata": {},
   "outputs": [
    {
     "name": "stdout",
     "output_type": "stream",
     "text": [
      "The number of Uppercase charecters is: 3 \n",
      "The number of Lowercase charecters is: 13\n"
     ]
    }
   ],
   "source": [
    "# 7. Write a Python function that accepts a string and counts the number of upper and lower case letters.\n",
    "def count_char(sample_text):\n",
    "    Upper = 0\n",
    "    Lower = 0\n",
    "    for i in sample_text:\n",
    "        if i.isupper():\n",
    "            Upper += 1\n",
    "        elif i.islower():\n",
    "            Lower += 1\n",
    "    return f\"The number of Uppercase charecters is: {Upper} \\nThe number of Lowercase charecters is: {Lower}\"\n",
    "    \n",
    "print(count_char('The quick Brown Fox'))"
   ]
  },
  {
   "cell_type": "code",
   "execution_count": 63,
   "metadata": {},
   "outputs": [
    {
     "name": "stdout",
     "output_type": "stream",
     "text": [
      "[1, 2, 3, 5]\n"
     ]
    }
   ],
   "source": [
    "# 8. Write a Python function that takes a list and returns a new list with distinct elements from the first list.\n",
    "def find_distinct(*distList):\n",
    "    return list(set(distList))\n",
    "\n",
    "TheNumbers = [1,2,2,3,5,5]\n",
    "\n",
    "print(find_distinct(TheNumbers))"
   ]
  },
  {
   "cell_type": "code",
   "execution_count": 66,
   "metadata": {},
   "outputs": [
    {
     "name": "stdout",
     "output_type": "stream",
     "text": [
      "Prime\n",
      "Not Prime\n"
     ]
    }
   ],
   "source": [
    "# 9. Write a Python function that takes a number as a parameter and checks whether the number is prime or not.\n",
    "\n",
    "def find_Prime(element):\n",
    "    start = 2\n",
    "\n",
    "    while start < element:\n",
    "        if element % start == 0:\n",
    "            return \"Not Prime\"\n",
    "        else:\n",
    "            start += 1\n",
    "    else:\n",
    "        return \"Prime\"\n",
    "    \n",
    "print(find_Prime(13))\n",
    "print(find_Prime(12))\n"
   ]
  },
  {
   "cell_type": "code",
   "execution_count": 73,
   "metadata": {},
   "outputs": [
    {
     "name": "stdout",
     "output_type": "stream",
     "text": [
      "[22, 44, 56, 78, 90, 102]\n"
     ]
    }
   ],
   "source": [
    "# 10. Write a Python program to print the even numbers from a given list\n",
    "def find_even(numbers):\n",
    "    even_numbers = []\n",
    "    for i in numbers:\n",
    "        if i % 2 == 0:\n",
    "            even_numbers.append(i)\n",
    "    return even_numbers\n",
    "numbers = [15, 22, 33, 44, 56, 67, 78, 89, 90, 101, 102]\n",
    "print(find_even(numbers))"
   ]
  },
  {
   "cell_type": "code",
   "execution_count": 74,
   "metadata": {},
   "outputs": [
    {
     "name": "stdout",
     "output_type": "stream",
     "text": [
      "6 is a perfect number.\n",
      "28 is a perfect number.\n",
      "12 is not a perfect number.\n"
     ]
    }
   ],
   "source": [
    "# 11. Write a Python function to check whether a number is \"Perfect\" or not.\n",
    "def find_Perfect(number):\n",
    "    sum_of_divisors = 0\n",
    "    \n",
    "    for i in range(1, number):\n",
    "        if number % i == 0: \n",
    "            sum_of_divisors += i  \n",
    "            \n",
    "    if sum_of_divisors == number:\n",
    "        return f\"{number} is a perfect number.\"\n",
    "    else:\n",
    "        return f\"{number} is not a perfect number.\"\n",
    "\n",
    "print(find_Perfect(6))   \n",
    "print(find_Perfect(28))  \n",
    "print(find_Perfect(12))  "
   ]
  },
  {
   "cell_type": "code",
   "execution_count": 84,
   "metadata": {},
   "outputs": [
    {
     "name": "stdout",
     "output_type": "stream",
     "text": [
      "Palindrome\n",
      "Palindrome\n",
      "Not Palindrome\n"
     ]
    }
   ],
   "source": [
    "#12. Write a  Python function that checks whether a passed string is a palindrome or not.\n",
    "def find_palindrome(text):\n",
    "    space_remove = text.replace(\" \", \"\").lower()\n",
    "\n",
    "    reversed_txt = space_remove[::-1]\n",
    "\n",
    "    if space_remove == reversed_txt:\n",
    "        print('Palindrome')\n",
    "    else:\n",
    "        print('Not Palindrome')\n",
    "\n",
    "find_palindrome('madam')\n",
    "find_palindrome('Nurses run')\n",
    "find_palindrome('Hello World')"
   ]
  },
  {
   "cell_type": "code",
   "execution_count": 92,
   "metadata": {},
   "outputs": [
    {
     "data": {
      "text/plain": [
       "[1,\n",
       " 4,\n",
       " 9,\n",
       " 16,\n",
       " 25,\n",
       " 36,\n",
       " 49,\n",
       " 64,\n",
       " 81,\n",
       " 100,\n",
       " 121,\n",
       " 144,\n",
       " 169,\n",
       " 196,\n",
       " 225,\n",
       " 256,\n",
       " 289,\n",
       " 324,\n",
       " 361,\n",
       " 400,\n",
       " 441,\n",
       " 484,\n",
       " 529,\n",
       " 576,\n",
       " 625,\n",
       " 676,\n",
       " 729,\n",
       " 784,\n",
       " 841,\n",
       " 900]"
      ]
     },
     "execution_count": 92,
     "metadata": {},
     "output_type": "execute_result"
    }
   ],
   "source": [
    "#13. Write a Python function to create and print a list where the values are the squares of numbers between 1 and 30 (both included).\n",
    "\n",
    "def square_number():\n",
    "    list_square = []\n",
    "\n",
    "    for i in range(1, 30 + 1):\n",
    "        number = i * i\n",
    "        list_square.append(number)\n",
    "    return list_square\n",
    "    \n",
    "square_number()"
   ]
  },
  {
   "cell_type": "code",
   "execution_count": 97,
   "metadata": {},
   "outputs": [
    {
     "name": "stdout",
     "output_type": "stream",
     "text": [
      "black-green-red-white-yellow\n"
     ]
    }
   ],
   "source": [
    "# 14. Write a Python program that accepts a hyphen-separated sequence of words as input and prints the words \n",
    "# in a hyphen-separated sequence after sorting them alphabetically.\n",
    "askForWords = input('Enter a hyphen-separated sequence of words: ')\n",
    "\n",
    "split_Words = askForWords.split('-')\n",
    "\n",
    "split_Words.sort()\n",
    "\n",
    "JoinWords = '-'.join(split_Words)\n",
    "\n",
    "print(JoinWords)"
   ]
  },
  {
   "cell_type": "code",
   "execution_count": 104,
   "metadata": {},
   "outputs": [
    {
     "name": "stdout",
     "output_type": "stream",
     "text": [
      "55\n"
     ]
    }
   ],
   "source": [
    "# 15. Write a program to create a recursive function to calculate the sum of numbers from 0 to 10.\n",
    "\n",
    "def recursive_sum(n):\n",
    "    if n == 0:\n",
    "        return 0\n",
    "    else:\n",
    "        return n + recursive_sum(n - 1)\n",
    "\n",
    "print(recursive_sum(10))\n"
   ]
  }
 ],
 "metadata": {
  "kernelspec": {
   "display_name": "base",
   "language": "python",
   "name": "python3"
  },
  "language_info": {
   "codemirror_mode": {
    "name": "ipython",
    "version": 3
   },
   "file_extension": ".py",
   "mimetype": "text/x-python",
   "name": "python",
   "nbconvert_exporter": "python",
   "pygments_lexer": "ipython3",
   "version": "3.11.5"
  }
 },
 "nbformat": 4,
 "nbformat_minor": 2
}
